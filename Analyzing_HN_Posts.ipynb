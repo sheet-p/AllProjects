{
 "cells": [
  {
   "cell_type": "code",
   "execution_count": 3,
   "metadata": {},
   "outputs": [],
   "source": [
    "from csv import reader\n",
    "opened_file = open(\"HN_posts_year_to_Sep_26_2016.csv\", encoding=\"utf8\")\n",
    "read_file = reader(opened_file)\n",
    "hn = list(read_file)\n",
    "headers = hn[1:]\n"
   ]
  },
  {
   "cell_type": "code",
   "execution_count": 4,
   "metadata": {},
   "outputs": [],
   "source": [
    "#separating out posts with ‘Ask HN’ and ‘Show HN’ into different lists\n",
    "ask_posts = []\n",
    "show_posts = []\n",
    "other_posts = []\n",
    "for each in hn:\n",
    "    title = each[1]\n",
    "    if title.lower().startswith('ask hn'):\n",
    "        ask_posts.append(each)\n",
    "    elif title.lower().startswith('show hn'):\n",
    "        show_posts.append(each)\n",
    "    else:\n",
    "        other_posts.append(each)\n"
   ]
  },
  {
   "cell_type": "code",
   "execution_count": 5,
   "metadata": {},
   "outputs": [
    {
     "name": "stdout",
     "output_type": "stream",
     "text": [
      "94986\n",
      "10.393478498741656\n"
     ]
    }
   ],
   "source": [
    "#calculating total number of comments for ASK posts\n",
    "total_ask_comments = 0\n",
    "for each in ask_posts:\n",
    "    num_comments = each[4]\n",
    "    num_comments = int(num_comments)\n",
    "    total_ask_comments = total_ask_comments + num_comments\n",
    "avg_ask_comments = total_ask_comments / len(ask_posts)\n",
    "print(total_ask_comments)\n",
    "print(avg_ask_comments)\n"
   ]
  },
  {
   "cell_type": "code",
   "execution_count": 6,
   "metadata": {},
   "outputs": [
    {
     "name": "stdout",
     "output_type": "stream",
     "text": [
      "49633\n",
      "4.886099625910612\n"
     ]
    }
   ],
   "source": [
    "#calculating total number of comments for SHOW posts\n",
    "total_show_comments = 0\n",
    "for each in show_posts:\n",
    "    num_comments = each[4]\n",
    "    num_comments = int(num_comments)\n",
    "    total_show_comments = total_show_comments + num_comments\n",
    "    avg_show_comments = total_show_comments / len(show_posts)\n",
    "print(total_show_comments)\n",
    "print(avg_show_comments)\n"
   ]
  },
  {
   "cell_type": "code",
   "execution_count": 7,
   "metadata": {},
   "outputs": [
    {
     "name": "stdout",
     "output_type": "stream",
     "text": [
      "{'02': 269, '01': 282, '22': 383, '21': 518, '19': 552, '17': 587, '15': 646, '14': 513, '13': 444, '11': 312, '10': 282, '09': 222, '07': 226, '03': 271, '23': 343, '20': 510, '16': 579, '08': 257, '00': 301, '18': 614, '12': 342, '04': 243, '06': 234, '05': 209}\n"
     ]
    }
   ],
   "source": [
    "#Calculating the Amount of ASK posts created per hour\n",
    "import datetime as dt\n",
    "result_list = []\n",
    "for each in ask_posts:\n",
    "    created_at = each[6]\n",
    "    num_comments = each[4]\n",
    "    num_comments = int(num_comments)\n",
    "    result_list.append([created_at, num_comments])\n",
    "\n",
    "counts_by_hour = {}\n",
    "comments_by_hour = {}\n",
    "for row in result_list:\n",
    "    commented_hour = dt.datetime.strptime(row[0],\"%m/%d/%Y %H:%M\")\n",
    "    commented_hour = commented_hour.strftime(\"%H\")\n",
    "    if commented_hour not in counts_by_hour:\n",
    "        counts_by_hour[commented_hour] = 1\n",
    "        comments_by_hour[commented_hour] = row[1]\n",
    "    else:\n",
    "        counts_by_hour[commented_hour] = counts_by_hour[commented_hour] + 1\n",
    "        comments_by_hour[commented_hour] = counts_by_hour[commented_hour] + row[1]\n",
    "print(counts_by_hour)\n"
   ]
  },
  {
   "cell_type": "code",
   "execution_count": null,
   "metadata": {},
   "outputs": [],
   "source": []
  }
 ],
 "metadata": {
  "kernelspec": {
   "display_name": "Python 3",
   "language": "python",
   "name": "python3"
  },
  "language_info": {
   "codemirror_mode": {
    "name": "ipython",
    "version": 3
   },
   "file_extension": ".py",
   "mimetype": "text/x-python",
   "name": "python",
   "nbconvert_exporter": "python",
   "pygments_lexer": "ipython3",
   "version": "3.7.6"
  }
 },
 "nbformat": 4,
 "nbformat_minor": 4
}
