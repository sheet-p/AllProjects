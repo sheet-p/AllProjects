{
 "cells": [
  {
   "cell_type": "code",
   "execution_count": null,
   "metadata": {},
   "outputs": [],
   "source": [
    "from csv import reader\n",
    "\n",
    "# Read the `artworks_clean.csv` file\n",
    "opened_file = open('artworks_clean.csv')\n",
    "read_file = reader(opened_file)\n",
    "moma = list(read_file)\n",
    "moma = moma[1:]\n"
   ]
  },
  {
   "cell_type": "code",
   "execution_count": null,
   "metadata": {},
   "outputs": [],
   "source": [
    "# Convert the birthdate values\n",
    "for row in moma:\n",
    "    birth_date = row[3]\n",
    "    if birth_date != \"\":\n",
    "        birth_date = int(birth_date)\n",
    "    row[3] = birth_date\n"
   ]
  },
  {
   "cell_type": "code",
   "execution_count": null,
   "metadata": {},
   "outputs": [],
   "source": [
    "# Convert the death date values\n",
    "for row in moma:\n",
    "    death_date = row[4]\n",
    "    if death_date != \"\":\n",
    "        death_date = int(death_date)\n",
    "    row[4] = death_date\n"
   ]
  },
  {
   "cell_type": "code",
   "execution_count": null,
   "metadata": {},
   "outputs": [],
   "source": [
    "# Write your code below\n",
    "for row in moma:\n",
    "    date = row[6]\n",
    "    if date != \"\":\n",
    "        date = int(date)\n",
    "    row[6] = date\n"
   ]
  },
  {
   "cell_type": "code",
   "execution_count": null,
   "metadata": {},
   "outputs": [],
   "source": [
    "#CALCULATING AGES OF ARTISTS\n",
    "ages = []\n",
    "for row in moma:\n",
    "    date = row[6]\n",
    "    birth = row[3]\n",
    "    if isinstance(birth,int):\n",
    "        age = date - birth\n",
    "    else:\n",
    "        age = 0\n",
    "    ages.append(age)\n",
    "    \n",
    "final_ages =[]\n",
    "for each in ages:\n",
    "    if each > 20:\n",
    "        final_age = each\n",
    "    else:\n",
    "        final_age = \"Unknown\"\n",
    "    final_ages.append(final_age)\n",
    "\n",
    "print(final_ages[:])\n"
   ]
  },
  {
   "cell_type": "code",
   "execution_count": null,
   "metadata": {},
   "outputs": [],
   "source": [
    "#CLEANING AGE COLUMN TO SHOW DECADES\n",
    "decades = []\n",
    "for age in final_ages:\n",
    "    if age != \"Unknown\":\n",
    "        age = str(age)\n",
    "        decade = age[:-1]\n",
    "        decade = decade + \"0s\"\n",
    "    else:\n",
    "        decade = age\n",
    "    decades.append(decade)\n",
    "print(decades[:])\n"
   ]
  },
  {
   "cell_type": "code",
   "execution_count": null,
   "metadata": {},
   "outputs": [],
   "source": [
    "#CREATING FREQ TABLE OF DECADES\n",
    "decade_frequency = {}\n",
    "for each in decades:\n",
    "    if each in decade_frequency:\n",
    "        decade_frequency[each] += 1\n",
    "    else:\n",
    "        decade_frequency[each] = 1\n",
    "print(decade_frequency)\n"
   ]
  },
  {
   "cell_type": "code",
   "execution_count": null,
   "metadata": {},
   "outputs": [],
   "source": [
    "#FORMATTING OUTPUT USING str.format()\n",
    "artist = \"Pablo Picasso\"\n",
    "birth_year = 1881\n",
    "temp_str = \"{name}'s birth year is {year}\".format(name=artist, year=birth_year)\n",
    "print(temp_str)\n"
   ]
  },
  {
   "cell_type": "code",
   "execution_count": null,
   "metadata": {},
   "outputs": [],
   "source": [
    "#CREATING FREQUENCY TABLE FOR ARTISTS\n",
    "artist_freq = {}\n",
    "for row in moma:\n",
    "    artist = row[1]\n",
    "    if artist not in artist_freq:\n",
    "        artist_freq[artist] = 1\n",
    "    else:\n",
    "        artist_freq[artist] += 1\n",
    "print(artist_freq)\n"
   ]
  },
  {
   "cell_type": "code",
   "execution_count": null,
   "metadata": {},
   "outputs": [],
   "source": [
    "#COUNTING EACH ARTISTS’ ARTWORK (giving a hardcoded artist name to check)\n",
    "def artist_summary(artist):\n",
    "    if artist in artist_freq:\n",
    "        template = \"There are {number} artworks by {name} in the data set\".format(number = artist_freq[artist],name = artist)\n",
    "        print(template)\n",
    "        \n",
    "#supplying constant name\n",
    "artist_summary(\"Henri Matisse\")\n"
   ]
  }
 ],
 "metadata": {
  "kernelspec": {
   "display_name": "Python 3",
   "language": "python",
   "name": "python3"
  },
  "language_info": {
   "codemirror_mode": {
    "name": "ipython",
    "version": 3
   },
   "file_extension": ".py",
   "mimetype": "text/x-python",
   "name": "python",
   "nbconvert_exporter": "python",
   "pygments_lexer": "ipython3",
   "version": "3.7.6"
  }
 },
 "nbformat": 4,
 "nbformat_minor": 4
}
